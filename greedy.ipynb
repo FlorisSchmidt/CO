{
 "metadata": {
  "language_info": {
   "codemirror_mode": {
    "name": "ipython",
    "version": 3
   },
   "file_extension": ".py",
   "mimetype": "text/x-python",
   "name": "python",
   "nbconvert_exporter": "python",
   "pygments_lexer": "ipython3",
   "version": "3.8.8-final"
  },
  "orig_nbformat": 2,
  "kernelspec": {
   "name": "python388jvsc74a57bd0f616aa4eeca7f93372e342ce7c95154d6f632b5981175c5a22dab1e5b2de879c",
   "display_name": "Python 3.8.8 64-bit"
  }
 },
 "nbformat": 4,
 "nbformat_minor": 2,
 "cells": [
  {
   "cell_type": "code",
   "execution_count": null,
   "metadata": {},
   "outputs": [],
   "source": [
    "from InstanceVerolog2019 import InstanceVerolog2019\n",
    "import classes\n",
    "import extraction"
   ]
  },
  {
   "cell_type": "code",
   "execution_count": null,
   "metadata": {},
   "outputs": [],
   "source": [
    "instance = InstanceVerolog2019('CO.txt')\n",
    "instance = extraction.extract(instance)\n",
    "solution = classes.Solution(instance.Days)"
   ]
  },
  {
   "cell_type": "code",
   "execution_count": null,
   "metadata": {},
   "outputs": [],
   "source": [
    "print(instance.Machines)"
   ]
  },
  {
   "cell_type": "code",
   "execution_count": null,
   "metadata": {},
   "outputs": [],
   "source": [
    "for day in solution.Days:\n",
    "    trucksUsed = []\n",
    "    trucksUsed.append(classes.Truck(\n",
    "        len(trucksUsed),\n",
    "        day.dayNumber,\n",
    "        [],0,\n",
    "        instance.TruckDayCost,\n",
    "        instance.TruckCost\n",
    "        ))\n",
    "    currentTruck = 0\n",
    "    for request in instance.Requests:\n",
    "        machineSize = instance.Machines[request.machineID-1].size\n",
    "        capacity = trucksUsed[currentTruck].getUsedCapacity()\n",
    "        if(capacity+machineSize<instance.TruckCapacity and\n",
    "        ):"
   ]
  },
  {
   "cell_type": "code",
   "execution_count": null,
   "metadata": {},
   "outputs": [],
   "source": [
    "def calcDistance(route,newPoint):\n",
    "    newRoute = route.insert(-1,newPoint)\n",
    "    for point in newRoute:\n",
    "        "
   ]
  }
 ]
}